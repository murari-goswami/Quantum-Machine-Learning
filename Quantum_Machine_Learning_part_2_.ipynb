{
  "nbformat": 4,
  "nbformat_minor": 0,
  "metadata": {
    "colab": {
      "name": "Quantum Machine Learning part 2 .ipynb",
      "version": "0.3.2",
      "provenance": [],
      "collapsed_sections": [],
      "include_colab_link": true
    },
    "kernelspec": {
      "name": "python3",
      "display_name": "Python 3"
    }
  },
  "cells": [
    {
      "cell_type": "markdown",
      "metadata": {
        "id": "view-in-github",
        "colab_type": "text"
      },
      "source": [
        "<a href=\"https://colab.research.google.com/github/soumyadip1995/Quantum-Machine-Learning/blob/master/Quantum_Machine_Learning_part_2_.ipynb\" target=\"_parent\"><img src=\"https://colab.research.google.com/assets/colab-badge.svg\" alt=\"Open In Colab\"/></a>"
      ]
    },
    {
      "metadata": {
        "id": "x4Y33xngC6yU",
        "colab_type": "text"
      },
      "cell_type": "markdown",
      "source": [
        "##Quantum Machine Learning Introduction\n",
        "\n",
        "![alt text](https://i.ytimg.com/vi/6yaY4Fw-ovM/maxresdefault.jpg)\n",
        "\n",
        "\n",
        "##What is Quantum Machine learning ?\n",
        "\n",
        "\n",
        "![alt text](https://cdn-images-1.medium.com/max/1200/0*-6thB5gWgeL4hJit.)\n",
        "\n",
        "\n",
        "1st part of this blog post- [Part 1](https://https://soumyadip1995.blogspot.com/2019/04/introduction-to-quantum-machine.html)\n",
        "\n",
        "\n",
        "1. Quantum machine learning (QML) is a subdiscipline of quantum information processing research, with the goal of developing quantum algorithms that learn from data in order to improve existing methods in machine learning.\n",
        "\n",
        "2. A quantum algorithm is a routine that can be implemented on a quantum computer, a device that exploits the laws of quantum theory in order to process information.\n",
        "\n",
        "\n",
        "3. A number of quantum algorithms have been proposed for various machine learning models such as neural networks, support vector machines, and graphical models.\n",
        "\n",
        "4. Besides finding quantum algorithms for pattern recognition and data mining, QML also investigates more fundamental questions about the concept of learning from the perspective of quantum theory.\n",
        "\n",
        "5. Sometimes the definition of QML is extended by research that applies machine learning to quantum information, such as is frequently done when the full evolution or state of a quantum system has to be reconstructed from limited experimental data.\n",
        "\n",
        "![alt text](https://upload.wikimedia.org/wikipedia/commons/thumb/1/1b/Qml_approaches.tif/lossless-page1-220px-Qml_approaches.tif.png)\n",
        "\n",
        "\n",
        "Four different approaches to combine the disciplines of quantum computing and machine learning.\n",
        "The first letter refers to whether the system under study is classical or quantum, while the second letter defines whether a classical or quantum information processing device is used."
      ]
    },
    {
      "metadata": {
        "id": "p471m1PUEmSe",
        "colab_type": "text"
      },
      "cell_type": "markdown",
      "source": [
        "##Quantum neural network(QNN)\n",
        "\n",
        "\n",
        "![alt text](https://silky.github.io/images/transition-to-quantum-nn.png)\n",
        "\n",
        "1. There are two different approaches to QNN research, one exploiting quantum information processing to improve existing neural network models (sometimes also vice versa), and the other one searching for potential quantum effects in the brain.\n",
        "\n",
        "2. In the computational approach to quantum neural network research, scientists try to combine artificial neural network models (which are widely used in machine learning for the important task of pattern classification) with the advantages of quantum information in order to develop more efficient algorithms.\n",
        "\n",
        "3. The hope is that features of quantum computing such as quantum parallelism or the effects of interference and entanglement can be used as resources(visit the part 1 of this blog post- https://soumyadip1995.blogspot.com/2019/04/introduction-to-quantum-machine.html).\n",
        "\n",
        "4.  Since the technological implementation of a quantum computer is still in a premature stage, such quantum neural network models are mostly theoretical proposals that await their full implementation in physical experiments.\n",
        "\n",
        "\n",
        "![alt text](data:image/png;base64,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)\n",
        "\n",
        "\n",
        "**one line** : Its really one of the hardest topics(atleast for me).To understand easily , Normal Neural Network is doing parallel processing ,QNN is doing parallel of parallel processing .In theory, combination of various activation functions is possible in QNN .In Normal NN more than one activation function reduce the performance and increase the complexity.\n",
        "\n",
        "\n",
        "![alt text](https://camo.githubusercontent.com/6dbc83286ea57d6ba46bfb43ec8e2249c035d1f5/68747470733a2f2f696d6167652e736c696465736861726563646e2e636f6d2f7175616e74756d636f6d707574696e672d3135303132323136333135382d636f6e76657273696f6e2d6761746530312f39352f7175616e74756d2d636f6d707574696e672d33312d3633382e6a70673f63623d31343231393434353034)\n",
        "\n",
        "\n",
        "\n",
        "\n",
        "\n",
        "\n"
      ]
    },
    {
      "metadata": {
        "id": "YVp4kZXmGgVh",
        "colab_type": "text"
      },
      "cell_type": "markdown",
      "source": [
        "# Schrödinger's cat:\n",
        "\n",
        "\n",
        "![alt text](https://static.tvtropes.org/pmwiki/pub/images/schrodingerscat_fullpic_3667.jpg)\n",
        "\n",
        "\n",
        "In the theory, called the Copenhagen interpretation of quantum mechanics,it is said that a quantum system remains in superposition until it interacts with, or is observed by the external world.\n",
        "\n",
        "###The idea\n",
        "\n",
        "To further illustrate, Schrödinger described how one could, in principle, create a superposition in a large-scale system by making it dependent on a quantum particle that was in a superposition.(Remember superposition, if not- go to- https://soumyadip1995.blogspot.com/2019/04/introduction-to-quantum-machine.html).\n",
        "\n",
        "He proposed a scenario with a cat in a locked steel chamber, wherein the cat's life or death depended on the state of a radioactive atom, whether it had decayed and emitted radiation or not. According to Schrödinger, the Copenhagen interpretation implies that the cat remains both alive and dead until the state has been observed.\n",
        "\n",
        "###Applications and tests:-\n",
        "\n",
        "1. An experiment involving the SQUID.(Previous blog post link). has been linked to the theme of the thought experiment: \"The superposition state does not correspond to a billion electrons flowing one way and a billion others flowing the other way. All the superconducting electrons in the SQUID flow both ways around the loop at once when they are in the Schrödinger's cat state.\n",
        "\n",
        "2. In quantum computing the phrase \"cat state\" sometimes refers to the GHZ state, wherein several qubits are in an equal superposition of all being 0 and all being 1.\n",
        "\n",
        "\n",
        "Now, this was important to include, because it is on the behaviour of the qubits, that is the building blocks of Quantum Algorithms and Ultimately QML. So, Schrodinger's cat is an essential theory in Quantum mechanics as well as Quantum Computation."
      ]
    },
    {
      "metadata": {
        "id": "Gm-9bIpMI_Na",
        "colab_type": "text"
      },
      "cell_type": "markdown",
      "source": [
        "##Who provides Quantum Computers?\n",
        "\n",
        "![alt text](https://camo.githubusercontent.com/f9b11126810b9f0e4cbbcbbf00b7b93250724d52/68747470733a2f2f696d6167652e736c696465736861726563646e2e636f6d2f6a6f6e7468656265616368737061696e3230313774616c6b2d3137303630373037333933382f39352f65766f6c76696e672d7175616e74756d2d636f6d7075746572732d6861726e657373696e672d612d766173742d68696464656e2d7265616c6974792d34392d3633382e6a70673f63623d31343936383234393537)\n",
        "\n",
        "###D-wave Patents\n",
        "\n",
        "![alt text](https://camo.githubusercontent.com/2d5c608e86b964352e9ac961cd08c823c36026c6/68747470733a2f2f7777772e6f6374696d696e652e636f6d2f636f6e74656e742f696d616765732f323031362f31322f546f702d636f6d70616e6965732d7175616e74756d2d636f6d707574696e672e706e67)\n",
        "\n",
        "\n",
        "![alt text](https://camo.githubusercontent.com/0da2a4bf88ca7069902fe64966e2b139edebabd3/68747470733a2f2f6362692d626c6f672e73332e616d617a6f6e6177732e636f6d2f626c6f672f77702d636f6e74656e742f75706c6f6164732f323031362f31302f70726f632d726f61646d6170322e706e67)\n",
        "\n",
        "\n",
        "##Are Quantum Computers faster than Classical Computers?\n",
        "\n",
        "\n",
        "###For a subset of classical problems, yes quantum computing makes a dramatic difference. But quantum computers are not a replacement for conventional computers. They are complementary and will be used to handle particular tasks before handing off work to a classical system.\n",
        "\n",
        "\n",
        "###What does the Quantum Computation Process look like?\n",
        "\n",
        "***Quantum computing is a process of engineering the pattern of a complex set of waves, in hopes of channeling the flow toward the correct answer***\n",
        "\n",
        "\n",
        "![alt text](https://camo.githubusercontent.com/76f8a7a55c67c01bd41515948c31f6212e463c83/68747470733a2f2f336331373033666538642e736974652e696e7465726e617063646e2e6e65742f6e65776d616e2f63737a2f6e6577732f3830302f323031352f636f686572656e6365616e642e6a7067)\n",
        "\n",
        "\n",
        "1. To perform a computation with many qubits, they must all be sustained in interdependent superpositions of states.\n",
        "\n",
        "2. This is called “quantum-coherent” state, in which the qubits are said to be entangled.\n",
        "3. That way, a tweak to one qubit may influence all the others.\n",
        "4. This means that somehow computational operations on qubits count for more than they do for classical bits.\n",
        "5. The computational resources increase in simple proportion to the number of bits for a classical device, but adding an extra qubit potentially doubles the resources of a quantum computer.\n",
        "6. This is why the difference between a 5-qubit and a 50-qubit machine is so significant."
      ]
    },
    {
      "metadata": {
        "id": "CEr5UPXjKjap",
        "colab_type": "text"
      },
      "cell_type": "markdown",
      "source": [
        "![alt text](https://camo.githubusercontent.com/34abf06633d4fe4bdb51c7f6a773b951fb73e6c7/68747470733a2f2f75706c6f61642e77696b696d656469612e6f72672f77696b6970656469612f636f6d6d6f6e732f7468756d622f352f35302f4465636f686572656e63655175616e74756d436c6173736963616c5f656e2e7376672f3132303070782d4465636f686572656e63655175616e74756d436c6173736963616c5f656e2e7376672e706e67)\n",
        "\n",
        "1. To carry out a quantum computation, you need to keep all your qubits coherent. This is hard.\n",
        "2. Interactions of a system of quantum-coherent entities with their surrounding environment create channels through which the coherence rapidly “leaks out” in a process called decoherence.\n",
        "3. Researchers seeking to build quantum computers must stave off decoherence, which they can currently do only for a fraction of a second. T\n",
        "4. That challenge gets ever greater as the number of qubits, and hence the potential to interact with the environment, increases.\n",
        "5. This is largely why, even though quantum computing was first proposed by Richard Feynman in 1982 and the theory was worked out in the early 1990s, it has taken until now to make devices that can actually perform a meaningful computation.\n",
        "6. Most of the time, the process of engineering quantum waves to do a calculation, and protecting them from outside interference long enough for that calculation to finish, is just more hassle than it's worth.\n",
        "7. You get a little bit of a speed-up, maybe, but not enough to justify the extra overhead needed for quantum computing-- you're better off just running a fast classical algorithm on a top-of-the-line classical computer.\n",
        "\n",
        "\n",
        "##Check out https://www.dwavesys.com/quantum-computing/applications\n",
        "\n",
        "###Quantum computers are in their early stage of development much like the classical computers back in the 50’s.\n",
        "\n",
        "###Who back in the 50’s could predict such a thing as social media and the concept of being connected to millions of people through transmitting signals?\n",
        "\n",
        "###How can it be used for machine learning?\n",
        "\n",
        "###4 Known Ways - Optimization, Sampling, Kernel Evaluation, and Linear Algebra.It will accelerate some existing ML algorithms & enable a new type of ML algorithm.\n",
        "\n",
        "![alt text](https://camo.githubusercontent.com/55388ab860df1c836b059dbd0ff8312ce58c58d9/687474703a2f2f6f70656e7472616e736372697074732e6f72672f77702d636f6e74656e742f75706c6f6164732f323031362f30342f6a6572656d792d6f627269656e2d7175616e74756d2d636f6d70757465722d30305f30345f30392e706e67)\n",
        "\n",
        "\n",
        "\n",
        "![alt text](https://camo.githubusercontent.com/ba93378f232db33220d00abce61ef6c2f3e0ce98/68747470733a2f2f6769746875622e636f6d2f6b726973686e616b756d617273656b61722f617765736f6d652d7175616e74756d2d6d616368696e652d6c6561726e696e672f7261772f6d61737465722f5175616e74756d2532304d616368696e65253230636f6d706c6574652532304172636869746563747572652e706e67)\n",
        "\n",
        "\n",
        "###We should think of early-generation quantum computers as small, partially programmable special-purpose devices that can take over costly jobs for machine learning which naturally suit them leap time https://cloud.dwavesys.com/leap\n",
        "\n",
        "###Lets check out this https://cloud.dwavesys.com/leap/demos/socialnetwork/optimization-problems/social-influencers\n",
        "\n",
        "\n"
      ]
    },
    {
      "metadata": {
        "id": "LuP_42QUL7T4",
        "colab_type": "text"
      },
      "cell_type": "markdown",
      "source": [
        "##Optimization\n",
        "\n",
        "1. Optimization is a prominent task in quantum physics.\n",
        "2. Physicists (and quantum chemists) are typically interested in finding the point of lowest energy in a high-dimensional energy landscape.\n",
        "3. This is the basic paradigm of adiabatic quantum computing and quantum annealing.\n",
        "\n",
        "dimod is a shared API for binary quadratic samplers.\n",
        "\n",
        "3. It provides a binary quadratic model (BQM) class that contains Ising optimization models used by samplers\n",
        "4. It also provides utilities for constructing new samplers and composed samplers and for minor-embedding.\n",
        "\n",
        "\n",
        "##Binary Quadratic Model\n",
        "\n",
        "1. This is a collection of binary-valued variables with associated linear and quadratic biases.\n",
        "\n",
        "\n",
        "###The Ising Model (identifies phase transitions, i.e solid vs liquid vs gas)\n",
        "\n",
        "### Theory here- https://jaan.io/how-does-physics-connect-machine-learning/\n",
        "\n",
        "\n",
        "\n",
        "![alt text](https://camo.githubusercontent.com/2f38f7dc2a2b33ae57274afd35c69b31632916cd/68747470733a2f2f692e696d6775722e636f6d2f4f64595a4557702e706e67)\n",
        "\n",
        "1. h contains the Linear biases of the Ising problem.\n",
        "2. J contains the Quadratic biases of the Ising problem.\n",
        "3. s represents a spin\n",
        "4. There are an enormous number of physical systems we might want to model, from individual electrons to collisions of galaxies.\n",
        "5. The most useful models of nature are those that can be used to represent a large number of completely different systems.\n",
        "6. One of the most widely used models in physics is called the Ising model\n",
        "7. Initially proposed in the mid 1920s by Ernst Ising and Wilhelm Lenz as a way to understand how magnetic materials work.\n",
        "8. The approach modeled a magnetic material as a collection of molecules, each of which has a spin which can align or anti-align with an applied magnetic field, and which interact through a pairwise term with each other\n",
        "9. Variables are “spin up” (↑) and “spin down” (↓), states that correspond to +1 and −1 values.\n",
        "10. Relationships between the spins, represented by couplings, are correlations or anti-correlations.\n",
        "11. The model uses discrete variables which represent the magnetic dipole moments of spin states, (which are either +1 or -1).\n",
        "12. The data, (which are just the spin states) are organised as a lattice so each spin can interact with its neighbours, (the model is useful for identifying phase transitions).\n",
        "13. The objective function expressed as an Ising model is as follows:"
      ]
    },
    {
      "metadata": {
        "id": "mJ2V1HDpON5x",
        "colab_type": "code",
        "colab": {
          "base_uri": "https://localhost:8080/",
          "height": 84
        },
        "outputId": "ba2a2721-784d-42fd-cdde-adfc45afb4b0"
      },
      "cell_type": "code",
      "source": [
        "#Optimization demo #1\n",
        "\n",
        "import dimod\n",
        "\n",
        "#define our input data\n",
        "\n",
        "h={0:0.0,1:0.0}\n",
        "J= {(0,1): -1.0}\n",
        "\n",
        "bqm= dimod.BinaryQuadraticModel.from_ising(h,J)\n",
        "response= dimod. ExactSolver().sample(bqm)\n",
        "\n",
        "for sample, energy in response.data(['sample','energy']): print(sample,energy)\n"
      ],
      "execution_count": 2,
      "outputs": [
        {
          "output_type": "stream",
          "text": [
            "{0: -1, 1: -1} -1.0\n",
            "{0: 1, 1: 1} -1.0\n",
            "{0: 1, 1: -1} 1.0\n",
            "{0: -1, 1: 1} 1.0\n"
          ],
          "name": "stdout"
        }
      ]
    },
    {
      "metadata": {
        "id": "C8l3niAZNeFx",
        "colab_type": "text"
      },
      "cell_type": "markdown",
      "source": [
        "Now, What this does is simultaneously computes all the coefficients. This is simulating a Quantum Environment in a phase where the particles move from solid to liqiud and from liqiud to gas. This method is proven to be faster than classical algorithms.\n",
        "\n",
        "\n",
        "\n",
        "##Sampling\n",
        "\n",
        "1. All quantum computers can be understood as samplers that prepare a special class of distributions (quantum states) and that sample from these distributions via measurements.\n",
        "2. A very promising avenue is therefore to explore how samples from quantum devices can be used to train machine learning models.\n",
        "3. This has been investigated for Boltzmann machines and Markov logic networks\n",
        "4. The Gibbs distribution, which is inspired by physics and hence comparably easy to realize with a physical system — plays an important role.\n",
        "5. Every quantum computer is fundamentally a sampler that starts with a simple probability distribution over all possible measurement outcomes, computes a more complicated distribution, and samples an outcome via a measurement.\n",
        "6. Quantum devices are therefore interesting assistants for sampling-based training, for example with Boltzmann machines.\n",
        "\n",
        "\n",
        "![alt text](https://camo.githubusercontent.com/1863e6cc26317e69bfed21e541cb2a1e45447de0/68747470733a2f2f63646e2d696d616765732d312e6d656469756d2e636f6d2f6d61782f313630302f312a4a766352547130326976794270666f6b677a684265672e706e67)\n",
        "\n",
        "\n",
        "Also lets look at this  https://arxiv.org/pdf/1611.09347.pdf\n",
        "\n",
        "\n",
        "\n",
        "\n",
        "![alt text](https://camo.githubusercontent.com/07d22c76cb30d6cf681f5c010c276a2b7dbcd90f/68747470733a2f2f696d616765732e736c696465706c617965722e636f6d2f31342f343331383432332f736c696465732f736c6964655f322e6a7067)\n",
        "\n"
      ]
    },
    {
      "metadata": {
        "id": "JygEFk3oR2s_",
        "colab_type": "code",
        "colab": {}
      },
      "cell_type": "code",
      "source": [
        ""
      ],
      "execution_count": 0,
      "outputs": []
    },
    {
      "metadata": {
        "id": "bquDNwaaTKbH",
        "colab_type": "text"
      },
      "cell_type": "markdown",
      "source": [
        "##Kernel Evaluation and Linear Algebra\n",
        "\n",
        "1. Kernel methods use machine learning models based on a distance measure between data points which is called a kernel. - Quantum devices can be used to estimate certain kernels, including ones that are difficult to compute classically.\n",
        "2. The estimates from the quantum computer can be fed into a standard kernel method — such as a support vector machine.\n",
        "3. Inference and training are done purely classically, but augmented with the quantum special purpose device.\n",
        "\n",
        "![alt text](https://camo.githubusercontent.com/ade656f8fd31c19902dfe4b221c905e458ead259/68747470733a2f2f63646e2d696d616765732d312e6d656469756d2e636f6d2f6d61782f323030302f312a44685567556e336175327a476c75657433316b754f772e706e67)\n",
        "\n",
        "\n",
        "![alt text](https://camo.githubusercontent.com/bf4404c2c7f810e51a0735a1a7b7bcd54cfbc36e/68747470733a2f2f63646e2d696d616765732d312e6d656469756d2e636f6d2f6d61782f313230302f312a587544415a333248764f6b2d594c46364776342d4e772e706e67)\n",
        "\n",
        "If we interpret the matrix describing a quantum gate as a linear layer of a neural network, we can visualize how the gate would connect inputs and outputs (which are ultimately the amplitudes of the quantum state).\n",
        "\n",
        "\n",
        "##Quantum Enhanced Reinforcement Learning\n",
        "\n",
        "1. In quantum-enhanced reinforcement learning, a quantum agent interacts with a classical environment and occasionally receives rewards for its actions, which allows the agent to adapt its behavior—in other words, to learn what to do in order to gain more rewards\n",
        "\n",
        "2. In some situations, either because of the quantum processing capability of the agent, or due to the possibility to probe the environment in superpositions, a quantum speedup may be achieved\n",
        "\n",
        "3. Implementations of these kinds of protocols in superconducting circuits and in systems of trapped ions have been proposed.(Application)\n",
        "\n",
        "![alt text](https://physicsworld.com/wp-content/uploads/2016/08/PW-2016-08-03-Commissariat-ion-trap-1.jpg)\n",
        "\n",
        "\n",
        "Img:- A five-qubit trapped-ion quantum computer, which is programmable and reconfigurable, by researchers from the Joint Quantum Institute in the US.\n",
        "\n",
        "\n",
        "##Conclusion\n",
        "\n",
        "There is still a lot more to explore and explain. Right now, it will be a liitle much if I start to go deeper. I think it will be better for you the reader, to not be dragged down deeper into the physics aspect of Quantum computing or Quantum ML especially if you are from computer science or similar background. This I think will be a  better stopping point. We will definitely discuss more about it in the future.\n"
      ]
    }
  ]
}